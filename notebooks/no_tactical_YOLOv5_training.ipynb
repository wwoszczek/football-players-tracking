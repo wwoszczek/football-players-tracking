{
 "cells": [
  {
   "cell_type": "code",
   "execution_count": 2,
   "outputs": [
    {
     "name": "stdout",
     "output_type": "stream",
     "text": [
      "Collecting roboflow\r\n",
      "  Downloading roboflow-1.1.24-py3-none-any.whl (71 kB)\r\n",
      "\u001B[2K     \u001B[90m━━━━━━━━━━━━━━━━━━━━━━━━━━━━━━━━━━━━━━━━\u001B[0m \u001B[32m71.7/71.7 kB\u001B[0m \u001B[31m1.3 MB/s\u001B[0m eta \u001B[36m0:00:00\u001B[0mta \u001B[36m0:00:01\u001B[0m\r\n",
      "\u001B[?25hRequirement already satisfied: certifi==2023.7.22 in /opt/homebrew/lib/python3.11/site-packages (from roboflow) (2023.7.22)\r\n",
      "Collecting chardet==4.0.0\r\n",
      "  Downloading chardet-4.0.0-py2.py3-none-any.whl (178 kB)\r\n",
      "\u001B[2K     \u001B[90m━━━━━━━━━━━━━━━━━━━━━━━━━━━━━━━━━━━━━━━\u001B[0m \u001B[32m178.7/178.7 kB\u001B[0m \u001B[31m3.7 MB/s\u001B[0m eta \u001B[36m0:00:00\u001B[0ma \u001B[36m0:00:01\u001B[0m\r\n",
      "\u001B[?25hCollecting cycler==0.10.0\r\n",
      "  Downloading cycler-0.10.0-py2.py3-none-any.whl (6.5 kB)\r\n",
      "Collecting idna==2.10\r\n",
      "  Downloading idna-2.10-py2.py3-none-any.whl (58 kB)\r\n",
      "\u001B[2K     \u001B[90m━━━━━━━━━━━━━━━━━━━━━━━━━━━━━━━━━━━━━━━━\u001B[0m \u001B[32m58.8/58.8 kB\u001B[0m \u001B[31m7.5 MB/s\u001B[0m eta \u001B[36m0:00:00\u001B[0m\r\n",
      "\u001B[?25hRequirement already satisfied: kiwisolver>=1.3.1 in /opt/homebrew/lib/python3.11/site-packages (from roboflow) (1.4.4)\r\n",
      "Requirement already satisfied: matplotlib in /opt/homebrew/lib/python3.11/site-packages (from roboflow) (3.7.2)\r\n",
      "Requirement already satisfied: numpy>=1.18.5 in /opt/homebrew/lib/python3.11/site-packages (from roboflow) (1.23.5)\r\n",
      "Collecting opencv-python-headless==4.8.0.74\r\n",
      "  Downloading opencv_python_headless-4.8.0.74-cp37-abi3-macosx_11_0_arm64.whl (33.1 MB)\r\n",
      "\u001B[2K     \u001B[90m━━━━━━━━━━━━━━━━━━━━━━━━━━━━━━━━━━━━━━━━\u001B[0m \u001B[32m33.1/33.1 MB\u001B[0m \u001B[31m5.9 MB/s\u001B[0m eta \u001B[36m0:00:00\u001B[0m00:01\u001B[0m00:01\u001B[0m\r\n",
      "\u001B[?25hRequirement already satisfied: Pillow>=7.1.2 in /opt/homebrew/lib/python3.11/site-packages (from roboflow) (10.0.0)\r\n",
      "Requirement already satisfied: python-dateutil in /opt/homebrew/lib/python3.11/site-packages (from roboflow) (2.8.2)\r\n",
      "Requirement already satisfied: python-dotenv in /opt/homebrew/lib/python3.11/site-packages (from roboflow) (1.0.0)\r\n",
      "Requirement already satisfied: requests in /opt/homebrew/lib/python3.11/site-packages (from roboflow) (2.31.0)\r\n",
      "Requirement already satisfied: six in /opt/homebrew/lib/python3.11/site-packages (from roboflow) (1.16.0)\r\n",
      "Requirement already satisfied: urllib3>=1.26.6 in /opt/homebrew/lib/python3.11/site-packages (from roboflow) (1.26.16)\r\n",
      "Requirement already satisfied: tqdm>=4.41.0 in /opt/homebrew/lib/python3.11/site-packages (from roboflow) (4.66.1)\r\n",
      "Requirement already satisfied: PyYAML>=5.3.1 in /opt/homebrew/lib/python3.11/site-packages (from roboflow) (6.0.1)\r\n",
      "Collecting requests-toolbelt\r\n",
      "  Downloading requests_toolbelt-1.0.0-py2.py3-none-any.whl (54 kB)\r\n",
      "\u001B[2K     \u001B[90m━━━━━━━━━━━━━━━━━━━━━━━━━━━━━━━━━━━━━━━━\u001B[0m \u001B[32m54.5/54.5 kB\u001B[0m \u001B[31m5.2 MB/s\u001B[0m eta \u001B[36m0:00:00\u001B[0m\r\n",
      "\u001B[?25hCollecting python-magic\r\n",
      "  Downloading python_magic-0.4.27-py2.py3-none-any.whl (13 kB)\r\n",
      "Requirement already satisfied: contourpy>=1.0.1 in /opt/homebrew/lib/python3.11/site-packages (from matplotlib->roboflow) (1.1.0)\r\n",
      "Requirement already satisfied: fonttools>=4.22.0 in /opt/homebrew/lib/python3.11/site-packages (from matplotlib->roboflow) (4.41.1)\r\n",
      "Requirement already satisfied: packaging>=20.0 in /opt/homebrew/lib/python3.11/site-packages (from matplotlib->roboflow) (23.1)\r\n",
      "Requirement already satisfied: pyparsing<3.1,>=2.3.1 in /opt/homebrew/lib/python3.11/site-packages (from matplotlib->roboflow) (3.0.9)\r\n",
      "Requirement already satisfied: charset-normalizer<4,>=2 in /opt/homebrew/lib/python3.11/site-packages (from requests->roboflow) (3.2.0)\r\n",
      "Installing collected packages: python-magic, opencv-python-headless, idna, cycler, chardet, requests-toolbelt, roboflow\r\n",
      "  Attempting uninstall: idna\r\n",
      "    Found existing installation: idna 3.4\r\n",
      "    Uninstalling idna-3.4:\r\n",
      "      Successfully uninstalled idna-3.4\r\n",
      "  Attempting uninstall: cycler\r\n",
      "    Found existing installation: cycler 0.11.0\r\n",
      "    Uninstalling cycler-0.11.0:\r\n",
      "      Successfully uninstalled cycler-0.11.0\r\n",
      "  Attempting uninstall: chardet\r\n",
      "    Found existing installation: chardet 5.2.0\r\n",
      "    Uninstalling chardet-5.2.0:\r\n",
      "      Successfully uninstalled chardet-5.2.0\r\n",
      "\u001B[31mERROR: pip's dependency resolver does not currently take into account all the packages that are installed. This behaviour is the source of the following dependency conflicts.\r\n",
      "dvc 3.23.0 requires rich>=12, but you have rich 11.2.0 which is incompatible.\u001B[0m\u001B[31m\r\n",
      "\u001B[0mSuccessfully installed chardet-4.0.0 cycler-0.10.0 idna-2.10 opencv-python-headless-4.8.0.74 python-magic-0.4.27 requests-toolbelt-1.0.0 roboflow-1.1.24\r\n",
      "\r\n",
      "\u001B[1m[\u001B[0m\u001B[34;49mnotice\u001B[0m\u001B[1;39;49m]\u001B[0m\u001B[39;49m A new release of pip is available: \u001B[0m\u001B[31;49m23.0.1\u001B[0m\u001B[39;49m -> \u001B[0m\u001B[32;49m24.0\u001B[0m\r\n",
      "\u001B[1m[\u001B[0m\u001B[34;49mnotice\u001B[0m\u001B[1;39;49m]\u001B[0m\u001B[39;49m To update, run: \u001B[0m\u001B[32;49mpython3.11 -m pip install --upgrade pip\u001B[0m\r\n",
      "loading Roboflow workspace...\n",
      "loading Roboflow project...\n"
     ]
    },
    {
     "name": "stderr",
     "output_type": "stream",
     "text": [
      "Downloading Dataset Version Zip in football-players-detection-1 to yolov5pytorch:: 100%|██████████| 148663/148663 [00:17<00:00, 8557.72it/s] "
     ]
    },
    {
     "name": "stdout",
     "output_type": "stream",
     "text": [
      "\n"
     ]
    },
    {
     "name": "stderr",
     "output_type": "stream",
     "text": [
      "\n",
      "Extracting Dataset Version Zip to football-players-detection-1 in yolov5pytorch:: 100%|██████████| 1338/1338 [00:00<00:00, 6116.18it/s]\n"
     ]
    }
   ],
   "source": [
    "!pip install roboflow\n",
    "\n",
    "from roboflow import Roboflow\n",
    "rf = Roboflow(api_key=\"jHEMmjtRcvue9O2LXVWw\")\n",
    "project = rf.workspace(\"roboflow-jvuqo\").project(\"football-players-detection-3zvbc\")\n",
    "version = project.version(1)\n",
    "dataset = version.download(\"yolov5\")"
   ],
   "metadata": {
    "collapsed": false
   }
  },
  {
   "cell_type": "code",
   "execution_count": null,
   "outputs": [],
   "source": [],
   "metadata": {
    "collapsed": false
   }
  }
 ],
 "metadata": {
  "kernelspec": {
   "display_name": "Python 3",
   "language": "python",
   "name": "python3"
  },
  "language_info": {
   "codemirror_mode": {
    "name": "ipython",
    "version": 2
   },
   "file_extension": ".py",
   "mimetype": "text/x-python",
   "name": "python",
   "nbconvert_exporter": "python",
   "pygments_lexer": "ipython2",
   "version": "2.7.6"
  }
 },
 "nbformat": 4,
 "nbformat_minor": 0
}
